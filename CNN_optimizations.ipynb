{
 "cells": [
  {
   "cell_type": "markdown",
   "metadata": {},
   "source": [
    "This notebook uses cifar dataset to analyse best practices when training CNNs including using techniques like transfer learning and learning rate scheduling. "
   ]
  },
  {
   "cell_type": "code",
   "execution_count": 459,
   "metadata": {
    "ExecuteTime": {
     "end_time": "2018-02-11T18:13:24.937815Z",
     "start_time": "2018-02-11T18:13:24.916834Z"
    },
    "collapsed": true
   },
   "outputs": [],
   "source": [
    "%matplotlib inline\n",
    "%reload_ext autoreload\n",
    "%autoreload 2"
   ]
  },
  {
   "cell_type": "code",
   "execution_count": 460,
   "metadata": {
    "ExecuteTime": {
     "end_time": "2018-02-11T18:13:24.957182Z",
     "start_time": "2018-02-11T18:13:24.938945Z"
    },
    "collapsed": true
   },
   "outputs": [],
   "source": [
    "import pdb\n",
    "import matplotlib.pyplot as plt\n",
    "import matplotlib.ticker as ticker\n",
    "import numpy as np\n",
    "import os \n",
    "from tqdm import tqdm_notebook\n",
    "\n",
    "import torch\n",
    "import torchvision\n",
    "import torchvision.transforms as transforms\n",
    "from torchvision import datasets, models, transforms\n",
    "from torch.autograd import Variable\n",
    "import torch.nn as nn\n",
    "import torch.nn.functional as F\n",
    "import torch.optim as optim\n",
    "from torch.optim import lr_scheduler\n",
    "from clr import CyclicLR"
   ]
  },
  {
   "cell_type": "code",
   "execution_count": 461,
   "metadata": {
    "ExecuteTime": {
     "end_time": "2018-02-11T18:13:24.970861Z",
     "start_time": "2018-02-11T18:13:24.958176Z"
    },
    "collapsed": true
   },
   "outputs": [],
   "source": [
    "path = \"data/cifar10/\"\n",
    "use_gpu = torch.cuda.is_available()"
   ]
  },
  {
   "cell_type": "code",
   "execution_count": 462,
   "metadata": {
    "ExecuteTime": {
     "end_time": "2018-02-11T18:13:24.986841Z",
     "start_time": "2018-02-11T18:13:24.971869Z"
    },
    "collapsed": true
   },
   "outputs": [],
   "source": [
    "data_transforms = {\n",
    "    'train': transforms.Compose([\n",
    "        transforms.RandomHorizontalFlip(),\n",
    "        #transforms.RandomCrop(32, padding=4),\n",
    "        transforms.ToTensor(),\n",
    "        transforms.Normalize([0.4914 ,  0.48216,  0.44653], [0.24703,  0.24349,  0.26159])\n",
    "    ]),\n",
    "    'val': transforms.Compose([\n",
    "        #transforms.Scale(256),\n",
    "        #transforms.CenterCrop(224),\n",
    "        transforms.ToTensor(),\n",
    "        transforms.Normalize([0.4914 ,  0.48216,  0.44653], [0.24703,  0.24349,  0.26159])\n",
    "    ]),\n",
    "}"
   ]
  },
  {
   "cell_type": "code",
   "execution_count": 463,
   "metadata": {
    "ExecuteTime": {
     "end_time": "2018-02-11T18:13:25.214200Z",
     "start_time": "2018-02-11T18:13:24.987850Z"
    },
    "collapsed": true
   },
   "outputs": [],
   "source": [
    "image_datasets = {x: datasets.ImageFolder(os.path.join(path, x),\n",
    "                                          data_transforms[x])\n",
    "                  for x in ['train', 'val']}"
   ]
  },
  {
   "cell_type": "code",
   "execution_count": 464,
   "metadata": {
    "ExecuteTime": {
     "end_time": "2018-02-11T18:13:25.230938Z",
     "start_time": "2018-02-11T18:13:25.215128Z"
    },
    "collapsed": true
   },
   "outputs": [],
   "source": [
    "dataloaders = {x: torch.utils.data.DataLoader(image_datasets[x], batch_size=64,\n",
    "                                             shuffle=True, num_workers=4)\n",
    "              for x in ['train', 'val']}\n",
    "dataset_sizes = {x: len(image_datasets[x]) for x in ['train', 'val']}\n",
    "class_names = image_datasets['train'].classes"
   ]
  },
  {
   "cell_type": "code",
   "execution_count": 465,
   "metadata": {
    "ExecuteTime": {
     "end_time": "2018-02-11T18:13:25.499445Z",
     "start_time": "2018-02-11T18:13:25.232041Z"
    }
   },
   "outputs": [
    {
     "data": {
      "image/png": "[encoded data removed]",
      "text/plain": [
       "<matplotlib.figure.Figure at 0x7fe759967400>"
      ]
     },
     "metadata": {},
     "output_type": "display_data"
    }
   ],
   "source": [
    "def imshow(inp, title=None):\n",
    "    \"\"\"Imshow for Tensor.\"\"\"\n",
    "    inp = inp.numpy().transpose((1, 2, 0))\n",
    "    mean = np.array([0.4914 ,  0.48216,  0.44653])\n",
    "    std = np.array([0.24703,  0.24349,  0.26159])\n",
    "    inp = std * inp + mean\n",
    "    inp = np.clip(inp, 0, 1)\n",
    "    plt.imshow(inp)\n",
    "    if title is not None:\n",
    "        plt.title(title)\n",
    "    plt.pause(0.001)  # pause a bit so that plots are updated\n",
    "\n",
    "\n",
    "# Get a batch of training data\n",
    "inputs, classes = next(iter(dataloaders['train']))\n",
    "\n",
    "# Make a grid from batch\n",
    "out = torchvision.utils.make_grid(inputs.narrow(0,0,4))\n",
    "\n",
    "imshow(out, title=[class_names[x] for x in classes[0:4]])"
   ]
  },
  {
   "cell_type": "code",
   "execution_count": 466,
   "metadata": {
    "ExecuteTime": {
     "end_time": "2018-02-11T18:13:25.521180Z",
     "start_time": "2018-02-11T18:13:25.500801Z"
    }
   },
   "outputs": [
    {
     "data": {
      "text/plain": [
       "torch.Size([64, 3, 32, 32])"
      ]
     },
     "execution_count": 466,
     "metadata": {},
     "output_type": "execute_result"
    }
   ],
   "source": [
    "inputs.size()"
   ]
  },
  {
   "cell_type": "markdown",
   "metadata": {},
   "source": [
    "## Ol' Conv"
   ]
  },
  {
   "cell_type": "code",
   "execution_count": 467,
   "metadata": {
    "ExecuteTime": {
     "end_time": "2018-02-11T18:13:25.556029Z",
     "start_time": "2018-02-11T18:13:25.522452Z"
    },
    "collapsed": true
   },
   "outputs": [],
   "source": [
    "class Net(nn.Module):\n",
    "    def __init__(self):\n",
    "        super(Net, self).__init__()\n",
    "        self.conv1 = nn.Conv2d(3, 6, 5)\n",
    "        self.pool = nn.MaxPool2d(2, 2)\n",
    "        self.conv2 = nn.Conv2d(6, 16, 5)\n",
    "        self.fc1 = nn.Linear(16 * 5 * 5, 120)\n",
    "        self.fc2 = nn.Linear(120, 84)\n",
    "        self.fc3 = nn.Linear(84, 10)\n",
    "\n",
    "    def forward(self, x):\n",
    "        x = self.pool(F.relu(self.conv1(x)))\n",
    "        x = self.pool(F.relu(self.conv2(x)))\n",
    "        x = x.view(-1, 16 * 5 * 5)\n",
    "        x = F.relu(self.fc1(x))\n",
    "        x = F.relu(self.fc2(x))\n",
    "        x = self.fc3(x)\n",
    "        return x"
   ]
  },
  {
   "cell_type": "code",
   "execution_count": 468,
   "metadata": {
    "ExecuteTime": {
     "end_time": "2018-02-11T18:13:25.571466Z",
     "start_time": "2018-02-11T18:13:25.557026Z"
    },
    "collapsed": true
   },
   "outputs": [],
   "source": [
    "#Plotting loss decrease over iterations\n",
    "def showPlot(points):\n",
    "    plt.figure()\n",
    "    fig, ax = plt.subplots()\n",
    "    loc = ticker.MultipleLocator(base=0.2) # this locator puts ticks at regular intervals\n",
    "    ax.yaxis.set_major_locator(loc)\n",
    "    plt.plot(points)"
   ]
  },
  {
   "cell_type": "code",
   "execution_count": 554,
   "metadata": {
    "ExecuteTime": {
     "end_time": "2018-02-11T18:39:01.074238Z",
     "start_time": "2018-02-11T18:39:00.961541Z"
    },
    "code_folding": [],
    "collapsed": true
   },
   "outputs": [],
   "source": [
    "def train(epochs, model, criterion, optimizer, dataloaders, scheduler, plot_every=100):\n",
    "    iters = 1\n",
    "    plot_losses = []\n",
    "    losses = []\n",
    "    lrs = []\n",
    "    plot_loss_total = 0 # Reset every plot_every\n",
    "    \n",
    "    for epoch in tqdm_notebook(range(epochs)):  # loop over the dataset multiple times\n",
    "        for phase in ['train', 'val']:\n",
    "            if phase == 'train':\n",
    "                model.train(True)  # Set model to training mode\n",
    "            else:\n",
    "                model.train(False)  # Set model to evaluate mode\n",
    "            running_loss = 0.0\n",
    "            running_corrects = 0\n",
    "            for data in dataloaders[phase]:\n",
    "                # get the inputs\n",
    "                inputs, labels = data\n",
    "\n",
    "                if use_gpu:\n",
    "                    inputs = Variable(inputs.cuda())\n",
    "                    labels = Variable(labels.cuda())\n",
    "                else:\n",
    "                    inputs, labels = Variable(inputs), Variable(labels)\n",
    "\n",
    "                # zero the parameter gradients\n",
    "                optimizer.zero_grad()\n",
    "\n",
    "                # forward + backward + optimize\n",
    "                outputs = model(inputs)\n",
    "                _, preds = torch.max(outputs.data, 1)\n",
    "                loss = criterion(outputs, labels)\n",
    "                    \n",
    "                running_loss += loss.data[0] * inputs.size(0)\n",
    "                running_corrects += torch.sum(preds == labels.data)\n",
    "\n",
    "                if phase == 'train':\n",
    "                    scheduler.step()\n",
    "                    #scheduler.batch_step()\n",
    "                    plot_loss_total += loss.data[0]\n",
    "                    loss.backward()\n",
    "                    optimizer.step()\n",
    "                    if iters % plot_every == 0:\n",
    "                        lrs.append(scheduler.get_lr())\n",
    "                        losses.append(loss.data[0])\n",
    "                        plot_loss_avg = plot_loss_total / plot_every\n",
    "                        plot_losses.append(plot_loss_avg)\n",
    "                        plot_loss_total = 0\n",
    "                    iters += 1\n",
    "            epoch_loss = running_loss / dataset_sizes[phase]\n",
    "            epoch_acc = running_corrects / dataset_sizes[phase]\n",
    "            if phase=='train':\n",
    "                train_loss = epoch_loss; train_acc = epoch_acc\n",
    "                continue\n",
    "            print('Train Loss: {:.4f} Train Acc: {:.4f} Val Loss: {:.4f} Val Acc: {:.4f}'.format(\n",
    "                train_loss, train_acc, epoch_loss, epoch_acc), end='\\r', flush=True)\n",
    "    showPlot(plot_losses)\n",
    "    return losses, lrs"
   ]
  },
  {
   "cell_type": "code",
   "execution_count": 549,
   "metadata": {
    "ExecuteTime": {
     "end_time": "2018-02-11T18:38:13.114629Z",
     "start_time": "2018-02-11T18:38:13.100864Z"
    },
    "collapsed": true
   },
   "outputs": [],
   "source": [
    "net = Net()\n",
    "if use_gpu: net.cuda(); net"
   ]
  },
  {
   "cell_type": "markdown",
   "metadata": {},
   "source": [
    "Preferred Optimization technique is SGD with momentum, cyclic learning rates and cosine annealing. [This](https://arxiv.org/abs/1705.08292) paper puts a strong case for moving away from adaptive optimization methods like Adam. Validating results were also found in practice with the above model. Below is a description of the most effective method. <br>\n",
    "<b>Stochastic Gradient Descent</b> optimizer with [momentum](https://distill.pub/2017/momentum/) is used. Now, a natural difficulty is finding the most appropriate learning rate. <br>\n",
    "An interesting solution to this is <b>[Cyclical Learning Rates](https://arxiv.org/abs/1506.01186)</b>. In simple words, it is about increasing the learning rate from an estimate of a minimum to an estimate of a maximum in a specified amount of iterations. The hope is that by recording the loss and the learning rate, the range of valid learning rates can be narrowed down. Furthermore, this narrowed down range of learning rates can be used in multiple cycles where the learning rate rise and falls. This is a great way to get out of local minimas. <br>\n",
    "Another addition is <b>[cosine annealing](https://arxiv.org/pdf/1608.03983.pdf)</b> and warm restarts to squeeze a bit more out of the narrowed down learning rates. Cosine annealing will be reintroduced in a clever trick later. "
   ]
  },
  {
   "cell_type": "code",
   "execution_count": 581,
   "metadata": {
    "ExecuteTime": {
     "end_time": "2018-02-11T18:47:16.360754Z",
     "start_time": "2018-02-11T18:47:16.314911Z"
    },
    "collapsed": true
   },
   "outputs": [],
   "source": [
    "epochs = 1\n",
    "criterion = nn.CrossEntropyLoss()\n",
    "optimizer = optim.SGD(net.parameters(), lr=0.007, momentum=0.9)\n",
    "#optimizer = optim.RMSprop(net.parameters(), lr=0.01)\n",
    "lrscheduler = optim.lr_scheduler.CosineAnnealingLR(optimizer, T_max=len(dataloaders['train']), eta_min=0.0001)\n",
    "#lrscheduler = CyclicLR(optimizer, base_lr=0.001, max_lr=0.008, step_size=5*len(dataloaders['train']))"
   ]
  },
  {
   "cell_type": "code",
   "execution_count": 584,
   "metadata": {
    "ExecuteTime": {
     "end_time": "2018-02-11T18:47:32.171437Z",
     "start_time": "2018-02-11T18:47:28.532812Z"
    }
   },
   "outputs": [
    {
     "data": {
      "application/vnd.jupyter.widget-view+json": {
       "model_id": "44780a4c9e5e479da2d4c15d8bd53765",
       "version_major": 2,
       "version_minor": 0
      },
      "text/html": [
       "<p>Failed to display Jupyter Widget of type <code>HBox</code>.</p>\n",
       "<p>\n",
       "  If you're reading this message in the Jupyter Notebook or JupyterLab Notebook, it may mean\n",
       "  that the widgets JavaScript is still loading. If this message persists, it\n",
       "  likely means that the widgets JavaScript library is either not installed or\n",
       "  not enabled. See the <a href=\"https://ipywidgets.readthedocs.io/en/stable/user_install.html\">Jupyter\n",
       "  Widgets Documentation</a> for setup instructions.\n",
       "</p>\n",
       "<p>\n",
       "  If you're reading this message in another frontend (for example, a static\n",
       "  rendering on GitHub or <a href=\"https://nbviewer.jupyter.org/\">NBViewer</a>),\n",
       "  it may mean that your frontend doesn't currently support widgets.\n",
       "</p>\n"
      ],
      "text/plain": [
       "HBox(children=(IntProgress(value=0, max=1), HTML(value='')))"
      ]
     },
     "metadata": {},
     "output_type": "display_data"
    },
    {
     "name": "stdout",
     "output_type": "stream",
     "text": [
      "Train Loss: 0.6744 Train Acc: 0.7646 Val Loss: 0.9407 Val Acc: 0.6893\n"
     ]
    },
    {
     "data": {
      "text/plain": [
       "<matplotlib.figure.Figure at 0x7fe758bf77f0>"
      ]
     },
     "metadata": {},
     "output_type": "display_data"
    },
    {
     "data": {
      "image/png": "[encoded data removed]",
      "text/plain": [
       "<matplotlib.figure.Figure at 0x7fe758b60b00>"
      ]
     },
     "metadata": {},
     "output_type": "display_data"
    }
   ],
   "source": [
    "#782 iterations in 1 epoch\n",
    "losses, lrs = train(epochs, net, criterion, optimizer, dataloaders, lrscheduler)"
   ]
  },
  {
   "cell_type": "code",
   "execution_count": 572,
   "metadata": {
    "ExecuteTime": {
     "end_time": "2018-02-11T18:46:12.070006Z",
     "start_time": "2018-02-11T18:46:12.050790Z"
    },
    "collapsed": true
   },
   "outputs": [],
   "source": [
    "def plot_lr_loss(losses, lrs):\n",
    "    plt.ylabel(\"loss\")\n",
    "    plt.xlabel(\"learning rate (log scale)\")\n",
    "    plt.plot(lrs, losses)\n",
    "    plt.xscale('log')"
   ]
  },
  {
   "cell_type": "code",
   "execution_count": 573,
   "metadata": {
    "ExecuteTime": {
     "end_time": "2018-02-11T18:46:12.647888Z",
     "start_time": "2018-02-11T18:46:12.363953Z"
    }
   },
   "outputs": [
    {
     "data": {
      "image/png": "[encoded data removed]",
      "text/plain": [
       "<matplotlib.figure.Figure at 0x7fe751a76f60>"
      ]
     },
     "metadata": {},
     "output_type": "display_data"
    }
   ],
   "source": [
    "plot_lr_loss(losses, lrs)"
   ]
  },
  {
   "cell_type": "code",
   "execution_count": 585,
   "metadata": {
    "ExecuteTime": {
     "end_time": "2018-02-11T18:50:08.946653Z",
     "start_time": "2018-02-11T18:50:08.892441Z"
    },
    "collapsed": true
   },
   "outputs": [],
   "source": [
    "def evaluate_model(model, num_images=6):\n",
    "    images_so_far = 0\n",
    "    fig = plt.figure()\n",
    "    correct = 0\n",
    "    total = 0\n",
    "    for i, data in enumerate(dataloaders['val']):\n",
    "        inputs, labels = data\n",
    "        if use_gpu:\n",
    "            inputs, labels = Variable(inputs.cuda()), Variable(labels.cuda())\n",
    "        else:\n",
    "            inputs, labels = Variable(inputs), Variable(labels)\n",
    "\n",
    "        outputs = model(inputs)\n",
    "        _, preds = torch.max(outputs.data, 1)\n",
    "        total += labels.size(0)\n",
    "        correct += (preds.cpu().numpy() == labels.cpu().data.numpy()).sum()\n",
    "        if i == len(dataloaders['val'])-1:\n",
    "            print('Accuracy of the network on test images: %d %%' % (\n",
    "                100 * correct / total))\n",
    "            for j in range(inputs.size()[0]):\n",
    "                images_so_far += 1\n",
    "                ax = plt.subplot(num_images//2, 2, images_so_far)\n",
    "                ax.axis('off')\n",
    "                ax.set_title('predicted: {}'.format(class_names[preds[j]]))\n",
    "                imshow(inputs.cpu().data[j])\n",
    "\n",
    "                if images_so_far == num_images:\n",
    "                    return\n"
   ]
  },
  {
   "cell_type": "code",
   "execution_count": 587,
   "metadata": {
    "ExecuteTime": {
     "end_time": "2018-02-11T18:50:21.930370Z",
     "start_time": "2018-02-11T18:50:21.061524Z"
    }
   },
   "outputs": [
    {
     "name": "stdout",
     "output_type": "stream",
     "text": [
      "Accuracy of the network on test images: 68 %\n"
     ]
    },
    {
     "data": {
      "image/png": "[encoded data removed]",
      "text/plain": [
       "<matplotlib.figure.Figure at 0x7fe758a65f98>"
      ]
     },
     "metadata": {},
     "output_type": "display_data"
    }
   ],
   "source": [
    "evaluate_model(net)"
   ]
  },
  {
   "cell_type": "code",
   "execution_count": null,
   "metadata": {
    "collapsed": true
   },
   "outputs": [],
   "source": []
  }
 ],
 "metadata": {
  "kernelspec": {
   "display_name": "Python 3",
   "language": "python",
   "name": "python3"
  },
  "language_info": {
   "codemirror_mode": {
    "name": "ipython",
    "version": 3
   },
   "file_extension": ".py",
   "mimetype": "text/x-python",
   "name": "python",
   "nbconvert_exporter": "python",
   "pygments_lexer": "ipython3",
   "version": "3.6.2"
  },
  "latex_envs": {
   "LaTeX_envs_menu_present": true,
   "autocomplete": true,
   "bibliofile": "biblio.bib",
   "cite_by": "apalike",
   "current_citInitial": 1,
   "eqLabelWithNumbers": true,
   "eqNumInitial": 1,
   "hotkeys": {
    "equation": "Ctrl-E",
    "itemize": "Ctrl-I"
   },
   "labels_anchors": false,
   "latex_user_defs": false,
   "report_style_numbering": false,
   "user_envs_cfg": false
  }
 },
 "nbformat": 4,
 "nbformat_minor": 2
}
