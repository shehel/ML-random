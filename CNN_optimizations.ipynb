{
 "cells": [
  {
   "cell_type": "markdown",
   "metadata": {},
   "source": [
    "This notebook uses cifar dataset to analyse best practices when training CNNs including using techniques like transfer learning and learning rate scheduling. "
   ]
  },
  {
   "cell_type": "code",
   "execution_count": 1,
   "metadata": {
    "ExecuteTime": {
     "end_time": "2018-02-14T04:43:45.474519Z",
     "start_time": "2018-02-14T04:43:45.295039Z"
    }
   },
   "outputs": [
    {
     "data": {
      "text/html": [
       "<style>.container { width:100% !important; }</style>"
      ],
      "text/plain": [
       "<IPython.core.display.HTML object>"
      ]
     },
     "metadata": {},
     "output_type": "display_data"
    }
   ],
   "source": [
    "%matplotlib inline\n",
    "%reload_ext autoreload\n",
    "%autoreload 2\n",
    "\n",
    "from IPython.core.display import display, HTML\n",
    "display(HTML(\"<style>.container { width:100% !important; }</style>\"))"
   ]
  },
  {
   "cell_type": "code",
   "execution_count": 2,
   "metadata": {
    "ExecuteTime": {
     "end_time": "2018-02-14T04:43:46.320087Z",
     "start_time": "2018-02-14T04:43:45.935068Z"
    }
   },
   "outputs": [],
   "source": [
    "import pdb\n",
    "import matplotlib.pyplot as plt\n",
    "import matplotlib.ticker as ticker\n",
    "import numpy as np\n",
    "import os \n",
    "from tqdm import tqdm_notebook\n",
    "import random\n",
    "\n",
    "import torch\n",
    "import torchvision\n",
    "from torchvision import datasets, models, transforms\n",
    "from torch.autograd import Variable\n",
    "import torch.nn as nn\n",
    "import torch.nn.functional as F\n",
    "import torch.optim as optim\n",
    "from torch.optim import lr_scheduler\n",
    "from clr import CyclicLR"
   ]
  },
  {
   "cell_type": "code",
   "execution_count": 3,
   "metadata": {
    "ExecuteTime": {
     "end_time": "2018-02-14T04:43:46.358882Z",
     "start_time": "2018-02-14T04:43:46.330007Z"
    },
    "collapsed": true
   },
   "outputs": [],
   "source": [
    "path = \"data/cifar10/\"\n",
    "use_gpu = torch.cuda.is_available()\n",
    "batch_size=64"
   ]
  },
  {
   "cell_type": "code",
   "execution_count": 4,
   "metadata": {
    "ExecuteTime": {
     "end_time": "2018-02-14T04:43:47.059913Z",
     "start_time": "2018-02-14T04:43:47.050520Z"
    },
    "collapsed": true
   },
   "outputs": [],
   "source": [
    "data_transforms = {\n",
    "    'train': transforms.Compose([\n",
    "        transforms.RandomHorizontalFlip(),\n",
    "        #transforms.Scale(224),\n",
    "        #transforms.RandomCrop(32, padding=4),\n",
    "        transforms.ToTensor(),\n",
    "        transforms.Normalize(mean=[0.485, 0.456, 0.406],\n",
    "                                 std=[0.229, 0.224, 0.225])\n",
    "    ]),\n",
    "    'val': transforms.Compose([\n",
    "        #transforms.Scale(224),\n",
    "        #transforms.CenterCrop(224),\n",
    "        transforms.ToTensor(),\n",
    "        transforms.Normalize(mean=[0.485, 0.456, 0.406],\n",
    "                                 std=[0.229, 0.224, 0.225])\n",
    "    ]),\n",
    "}"
   ]
  },
  {
   "cell_type": "code",
   "execution_count": 5,
   "metadata": {
    "ExecuteTime": {
     "end_time": "2018-02-14T04:43:47.570462Z",
     "start_time": "2018-02-14T04:43:47.366207Z"
    },
    "collapsed": true
   },
   "outputs": [],
   "source": [
    "image_datasets = {x: datasets.ImageFolder(os.path.join(path, x),\n",
    "                                          data_transforms[x])\n",
    "                  for x in ['train', 'val']}"
   ]
  },
  {
   "cell_type": "code",
   "execution_count": 6,
   "metadata": {
    "ExecuteTime": {
     "end_time": "2018-02-14T04:43:47.636485Z",
     "start_time": "2018-02-14T04:43:47.626210Z"
    },
    "collapsed": true
   },
   "outputs": [],
   "source": [
    "dataloaders = {x: torch.utils.data.DataLoader(image_datasets[x], batch_size,\n",
    "                                             shuffle=True, num_workers=4)\n",
    "              for x in ['train', 'val']}\n",
    "dataset_sizes = {x: len(image_datasets[x]) for x in ['train', 'val']}\n",
    "class_names = image_datasets['train'].classes"
   ]
  },
  {
   "cell_type": "code",
   "execution_count": 262,
   "metadata": {
    "ExecuteTime": {
     "end_time": "2018-02-14T07:03:20.406003Z",
     "start_time": "2018-02-14T07:03:20.393092Z"
    },
    "collapsed": true
   },
   "outputs": [],
   "source": [
    "sampler = torch.utils.data.sampler.SubsetRandomSampler(\n",
    "    random.sample(range(len(image_datasets['val'])), batch_size*10))\n",
    "\n",
    "dataloaders['finder'] = torch.utils.data.DataLoader(image_datasets['val'], batch_size,\n",
    "                                             shuffle=False, sampler= sampler, num_workers=4)"
   ]
  },
  {
   "cell_type": "code",
   "execution_count": 264,
   "metadata": {
    "ExecuteTime": {
     "end_time": "2018-02-14T07:03:26.645408Z",
     "start_time": "2018-02-14T07:03:26.401055Z"
    }
   },
   "outputs": [
    {
     "data": {
      "image/png": "[encoded data removed]",
      "text/plain": [
       "<matplotlib.figure.Figure at 0x7fe3532e8cf8>"
      ]
     },
     "metadata": {},
     "output_type": "display_data"
    }
   ],
   "source": [
    "def imshow(inp, title=None):\n",
    "    \"\"\"Imshow for Tensor.\"\"\"\n",
    "    inp = inp.numpy().transpose((1, 2, 0))\n",
    "    mean = np.array([0.4914 ,  0.48216,  0.44653])\n",
    "    std = np.array([0.24703,  0.24349,  0.26159])\n",
    "    inp = std * inp + mean\n",
    "    inp = np.clip(inp, 0, 1)\n",
    "    plt.imshow(inp)\n",
    "    if title is not None:\n",
    "        plt.title(title)\n",
    "    plt.pause(0.001)  # pause a bit so that plots are updated\n",
    "\n",
    "\n",
    "# Get a batch of training data\n",
    "inputs, classes = next(iter(dataloaders['finder']))\n",
    "\n",
    "# Make a grid from batch\n",
    "out = torchvision.utils.make_grid(inputs.narrow(0,0,64))\n",
    "\n",
    "imshow(out, title=[class_names[x] for x in classes[0:4]])"
   ]
  },
  {
   "cell_type": "code",
   "execution_count": 265,
   "metadata": {
    "ExecuteTime": {
     "end_time": "2018-02-14T07:03:28.136988Z",
     "start_time": "2018-02-14T07:03:28.129711Z"
    }
   },
   "outputs": [
    {
     "data": {
      "text/plain": [
       "torch.Size([64, 3, 32, 32])"
      ]
     },
     "execution_count": 265,
     "metadata": {},
     "output_type": "execute_result"
    }
   ],
   "source": [
    "inputs.size()"
   ]
  },
  {
   "cell_type": "markdown",
   "metadata": {},
   "source": [
    "## Models"
   ]
  },
  {
   "cell_type": "markdown",
   "metadata": {},
   "source": [
    "### Simple CNN"
   ]
  },
  {
   "cell_type": "code",
   "execution_count": 266,
   "metadata": {
    "ExecuteTime": {
     "end_time": "2018-02-14T07:03:30.001954Z",
     "start_time": "2018-02-14T07:03:29.960531Z"
    },
    "collapsed": true
   },
   "outputs": [],
   "source": [
    "class simpleCnn(nn.Module):\n",
    "    def __init__(self):\n",
    "        super(simpleCnn, self).__init__()\n",
    "        self.conv1 = nn.Conv2d(3, 6, 5)\n",
    "        self.pool = nn.MaxPool2d(2, 2)\n",
    "        self.conv2 = nn.Conv2d(6, 16, 5)\n",
    "        self.fc1 = nn.Linear(16 * 5 * 5, 120)\n",
    "        self.fc2 = nn.Linear(120, 84)\n",
    "        self.fc3 = nn.Linear(84, 10)\n",
    "\n",
    "    def forward(self, x):\n",
    "        x = self.pool(F.relu(self.conv1(x)))\n",
    "        x = self.pool(F.relu(self.conv2(x)))\n",
    "        x = x.view(-1, 16 * 5 * 5)\n",
    "        x = F.relu(self.fc1(x))\n",
    "        x = F.relu(self.fc2(x))\n",
    "        x = self.fc3(x)\n",
    "        return x"
   ]
  },
  {
   "cell_type": "code",
   "execution_count": 267,
   "metadata": {
    "ExecuteTime": {
     "end_time": "2018-02-14T07:03:30.228691Z",
     "start_time": "2018-02-14T07:03:30.197825Z"
    },
    "collapsed": true
   },
   "outputs": [],
   "source": [
    "class SimpleNet(nn.Module):\n",
    "    def __init__(self, layers):\n",
    "        super().__init__()\n",
    "        self.layers = nn.ModuleList([\n",
    "            nn.Linear(layers[i], layers[i + 1]) for i in range(len(layers) - 1)])\n",
    "        \n",
    "    def forward(self, x):\n",
    "        x = x.view(x.size(0), -1)\n",
    "        for l in self.layers:\n",
    "            l_x = l(x)\n",
    "            x = F.relu(l_x)\n",
    "        return F.log_softmax(l_x)"
   ]
  },
  {
   "cell_type": "code",
   "execution_count": 577,
   "metadata": {
    "ExecuteTime": {
     "end_time": "2018-02-14T08:32:07.782291Z",
     "start_time": "2018-02-14T08:32:07.769539Z"
    },
    "collapsed": true
   },
   "outputs": [],
   "source": [
    "class ConvNet(nn.Module):\n",
    "    def __init__(self, layers, c):\n",
    "        super().__init__()\n",
    "        self.layers = nn.ModuleList([\n",
    "            nn.Conv2d(layers[i], layers[i + 1], kernel_size=3, stride=2)\n",
    "            for i in range(len(layers) - 1)])\n",
    "        self.pool = nn.AdaptiveMaxPool2d(1)\n",
    "        self.out = nn.Linear(layers[-1], c)\n",
    "        \n",
    "    def forward(self, x):\n",
    "        for l in self.layers: x = F.relu(l(x))\n",
    "        x = self.pool(x)\n",
    "        x = x.view(x.size(0), -1)\n",
    "        return F.log_softmax(self.out(x))"
   ]
  },
  {
   "cell_type": "markdown",
   "metadata": {},
   "source": [
    "### img size 224 CNN"
   ]
  },
  {
   "cell_type": "code",
   "execution_count": 269,
   "metadata": {
    "ExecuteTime": {
     "end_time": "2018-02-14T07:03:30.887179Z",
     "start_time": "2018-02-14T07:03:30.837773Z"
    },
    "collapsed": true
   },
   "outputs": [],
   "source": [
    "class simpleCnnL(nn.Module):\n",
    "    def __init__(self):\n",
    "        super(simpleCnnL, self).__init__()\n",
    "        #Stride 1 and padding 0 (defaults)\n",
    "        self.conv1 = nn.Conv2d(3, 6, 5)\n",
    "        self.pool = nn.MaxPool2d(4, 2)\n",
    "        self.conv2 = nn.Conv2d(6, 16, 5)\n",
    "        self.pool2 = nn.MaxPool2d(4, 2)\n",
    "        self.conv3 = nn.Conv2d(16, 32, 5)\n",
    "        self.pool3 = nn.MaxPool2d(4, 2)\n",
    "        self.conv4 = nn.Conv2d(32, 64, 5)\n",
    "        self.pool4 = nn.MaxPool2d(4, 2)\n",
    "        self.fc1 = nn.Linear(64 * 8 * 8, 120)\n",
    "        self.fc2 = nn.Linear(120, 84)\n",
    "        self.fc3 = nn.Linear(84, 10)\n",
    "\n",
    "    def forward(self, x):\n",
    "        x = self.pool(F.relu(self.conv1(x)))\n",
    "        x = self.pool2(F.relu(self.conv2(x)))\n",
    "        x = self.pool3(F.relu(self.conv3(x)))\n",
    "        x = self.pool4(F.relu(self.conv4(x)))\n",
    "        x = x.view(-1, 64 * 8 * 8)\n",
    "        x = F.relu(self.fc1(x))\n",
    "        x = F.relu(self.fc2(x))\n",
    "        x = self.fc3(x)\n",
    "        return x"
   ]
  },
  {
   "cell_type": "code",
   "execution_count": 270,
   "metadata": {
    "ExecuteTime": {
     "end_time": "2018-02-14T07:03:31.061066Z",
     "start_time": "2018-02-14T07:03:31.020935Z"
    },
    "collapsed": true
   },
   "outputs": [],
   "source": [
    "class BnLayer(nn.Module):\n",
    "    def __init__(self, ni, nf, stride=2, kernel_size=3):\n",
    "        super().__init__()\n",
    "        self.conv = nn.Conv2d(ni, nf, kernel_size=kernel_size, stride=stride,\n",
    "                              bias=False, padding=1)\n",
    "        self.a = nn.Parameter(torch.zeros(nf,1,1))\n",
    "        self.m = nn.Parameter(torch.ones(nf,1,1))\n",
    "        \n",
    "    def forward(self, x):\n",
    "        x = F.relu(self.conv(x))\n",
    "        x_chan = x.transpose(0,1).contiguous().view(x.size(1), -1)\n",
    "        if self.training:\n",
    "            self.means = x_chan.mean(1)[:,None,None]\n",
    "            self.stds  = x_chan.std (1)[:,None,None]\n",
    "        return (x-self.means) / self.stds *self.m + self.a"
   ]
  },
  {
   "cell_type": "code",
   "execution_count": null,
   "metadata": {
    "collapsed": true
   },
   "outputs": [],
   "source": []
  },
  {
   "cell_type": "code",
   "execution_count": 271,
   "metadata": {
    "ExecuteTime": {
     "end_time": "2018-02-14T07:03:31.494001Z",
     "start_time": "2018-02-14T07:03:31.445556Z"
    },
    "collapsed": true
   },
   "outputs": [],
   "source": [
    "class ResnetLayer(BnLayer):\n",
    "    def forward(self, x): return x + super().forward(x)\n",
    "\n",
    "class Resnet(nn.Module):\n",
    "    def __init__(self, layers, c):\n",
    "        super().__init__()\n",
    "        self.conv1 = nn.Conv2d(3, 10, kernel_size=5, stride=1, padding=2)\n",
    "        self.layers = nn.ModuleList([BnLayer(layers[i], layers[i+1])\n",
    "            for i in range(len(layers) - 1)])\n",
    "        self.layers2 = nn.ModuleList([ResnetLayer(layers[i+1], layers[i + 1], 1)\n",
    "            for i in range(len(layers) - 1)])\n",
    "        self.layers3 = nn.ModuleList([ResnetLayer(layers[i+1], layers[i + 1], 1)\n",
    "            for i in range(len(layers) - 1)])\n",
    "        self.out = nn.Linear(layers[-1], c)\n",
    "        \n",
    "    def forward(self, x):\n",
    "        x = self.conv1(x)\n",
    "        for l,l2,l3 in zip(self.layers, self.layers2, self.layers3):\n",
    "            x = l3(l2(l(x)))\n",
    "        x = F.adaptive_max_pool2d(x, 1)\n",
    "        x = x.view(x.size(0), -1)\n",
    "        return F.log_softmax(self.out(x))"
   ]
  },
  {
   "cell_type": "code",
   "execution_count": 272,
   "metadata": {
    "ExecuteTime": {
     "end_time": "2018-02-14T07:03:31.807495Z",
     "start_time": "2018-02-14T07:03:31.793251Z"
    },
    "collapsed": true
   },
   "outputs": [],
   "source": [
    "#Plotting loss decrease over iterations\n",
    "def showPlot(points):\n",
    "    plt.figure()\n",
    "    fig, ax = plt.subplots()\n",
    "    loc = ticker.MultipleLocator(base=0.2) # this locator puts ticks at regular intervals\n",
    "    ax.yaxis.set_major_locator(loc)\n",
    "    plt.plot(points)"
   ]
  },
  {
   "cell_type": "code",
   "execution_count": 568,
   "metadata": {
    "ExecuteTime": {
     "end_time": "2018-02-14T08:28:47.816799Z",
     "start_time": "2018-02-14T08:28:47.763333Z"
    },
    "collapsed": true
   },
   "outputs": [],
   "source": [
    "def find(model, criterion, optimizer, data, scheduler, max_step=50):\n",
    "    acc = []\n",
    "    lrs = []\n",
    "    iters = 1\n",
    "    corrects = 0\n",
    "    for iters in tqdm_notebook(range(max_step)):  # loop over the dataset multiple times\n",
    "        # get the inputs\n",
    "        inputs, labels = next(iter(dataloaders['train']))\n",
    "\n",
    "        if use_gpu:\n",
    "            inputs = Variable(inputs.cuda())\n",
    "            labels = Variable(labels.cuda())\n",
    "        else:\n",
    "            inputs, labels = Variable(inputs), Variable(labels)\n",
    "\n",
    "        # zero the parameter gradients\n",
    "        optimizer.zero_grad()\n",
    "\n",
    "        # forward + backward + optimize\n",
    "        outputs = model(inputs)\n",
    "        _, preds = torch.max(outputs.data, 1)\n",
    "        loss = criterion(outputs, labels)\n",
    "        \n",
    "        corrects = torch.sum(preds == labels.data)/64\n",
    "\n",
    "        #scheduler.step()\n",
    "        scheduler.batch_step()\n",
    "        loss.backward()\n",
    "        optimizer.step()\n",
    "        iters += 1\n",
    "        acc.append(corrects)\n",
    "        lrs.append(scheduler.get_lr())\n",
    "\n",
    "    return acc, lrs"
   ]
  },
  {
   "cell_type": "code",
   "execution_count": 474,
   "metadata": {
    "ExecuteTime": {
     "end_time": "2018-02-14T08:05:40.815602Z",
     "start_time": "2018-02-14T08:05:40.756253Z"
    },
    "code_folding": [
     0
    ],
    "collapsed": true
   },
   "outputs": [],
   "source": [
    "def train(epochs, model, criterion, optimizer, dataloaders, scheduler, plot_every=100):\n",
    "    plot_losses = []\n",
    "    losses = []\n",
    "    lrs = []\n",
    "    plot_loss_total = 0 # Reset every plot_every\n",
    "    iters = 0\n",
    "    for epoch in tqdm_notebook(range(epochs)):  # loop over the dataset multiple times\n",
    "        for phase in ['train', 'val']:\n",
    "            if phase == 'train':\n",
    "                model.train(True)  # Set model to training mode\n",
    "            else:\n",
    "                model.train(False)  # Set model to evaluate mode\n",
    "            running_loss = 0.0\n",
    "            running_corrects = 0\n",
    "            for data in dataloaders[phase]:\n",
    "                # get the inputs\n",
    "                inputs, labels = data\n",
    "\n",
    "                if use_gpu:\n",
    "                    inputs = Variable(inputs.cuda())\n",
    "                    labels = Variable(labels.cuda())\n",
    "                else:\n",
    "                    inputs, labels = Variable(inputs), Variable(labels)\n",
    "\n",
    "                # zero the parameter gradients\n",
    "                optimizer.zero_grad()\n",
    "\n",
    "                # forward + backward + optimize\n",
    "                outputs = model(inputs)\n",
    "                _, preds = torch.max(outputs.data, 1)\n",
    "                loss = criterion(outputs, labels)\n",
    "                    \n",
    "                running_loss += loss.data[0] * inputs.size(0)\n",
    "                running_corrects += torch.sum(preds == labels.data)\n",
    "                print (phase)\n",
    "                if phase == 'train':\n",
    "                    #scheduler.step()\n",
    "                    scheduler.batch_step()\n",
    "                    plot_loss_total += loss.data[0]\n",
    "                    loss.backward()\n",
    "                    optimizer.step()\n",
    "                    iters += 1\n",
    "                    if iters % plot_every == 0:\n",
    "                        lrs.append(scheduler.get_lr())\n",
    "                        losses.append(loss.data[0])\n",
    "                        plot_loss_avg = plot_loss_total / plot_every\n",
    "                        plot_losses.append(plot_loss_avg)\n",
    "                        plot_loss_total = 0\n",
    "            epoch_loss = running_loss / dataset_sizes[phase]\n",
    "            epoch_acc = running_corrects / dataset_sizes[phase]\n",
    "            if phase=='train':\n",
    "                train_loss = epoch_loss; train_acc = epoch_acc\n",
    "                continue\n",
    "            print('Train Loss: {:.4f} Train Acc: {:.4f} Val Loss: {:.4f} Val Acc: {:.4f}'.format(\n",
    "                train_loss, train_acc, epoch_loss, epoch_acc), end='\\r', flush=True)\n",
    "    return losses, lrs, plot_losses"
   ]
  },
  {
   "cell_type": "markdown",
   "metadata": {},
   "source": [
    "Preferred Optimization technique is SGD with momentum, cyclic learning rates and cosine annealing. [This](https://arxiv.org/abs/1705.08292) paper puts a strong case for moving away from adaptive optimization methods like Adam. Validating results were also found in practice with the above model. Below is a description of the most effective method. <br>\n",
    "<b>Stochastic Gradient Descent</b> optimizer with [momentum](https://distill.pub/2017/momentum/) is used. Now, a natural difficulty is finding the most appropriate learning rate. <br>\n",
    "An interesting solution to this is <b>[Cyclical Learning Rates](https://arxiv.org/abs/1506.01186)</b>. In simple words, it is about increasing the learning rate from an estimate of a minimum to an estimate of a maximum in a specified amount of iterations. The hope is that by recording the loss and the learning rate, the range of valid learning rates can be narrowed down. Furthermore, this narrowed down range of learning rates can be used in multiple cycles where the learning rate rise and falls. This is a great way to get out of local minimas. <br>\n",
    "Another addition is <b>[cosine annealing](https://arxiv.org/pdf/1608.03983.pdf)</b> and warm restarts to squeeze a bit more out of the narrowed down learning rates. Cosine annealing will be reintroduced in a clever trick later. "
   ]
  },
  {
   "cell_type": "markdown",
   "metadata": {},
   "source": [
    "### Finding optimal learning rates\n",
    "This can be acheived by training for a step size which is equavalent to a incremental linear rise from base_lr to max_lr. Losses and learning rates can be plotted to identify which learning rates give optimal results."
   ]
  },
  {
   "cell_type": "code",
   "execution_count": 569,
   "metadata": {
    "ExecuteTime": {
     "end_time": "2018-02-14T08:28:50.083243Z",
     "start_time": "2018-02-14T08:28:50.057277Z"
    },
    "collapsed": true
   },
   "outputs": [],
   "source": [
    "net=SimpleNet([32*32*3, 40,10]).cuda()"
   ]
  },
  {
   "cell_type": "code",
   "execution_count": 578,
   "metadata": {
    "ExecuteTime": {
     "end_time": "2018-02-14T08:32:57.348762Z",
     "start_time": "2018-02-14T08:32:57.341658Z"
    },
    "collapsed": true
   },
   "outputs": [],
   "source": [
    "net = ConvNet([3, 20, 40, 80], 10)\n",
    "if use_gpu: net.cuda()"
   ]
  },
  {
   "cell_type": "code",
   "execution_count": 579,
   "metadata": {
    "ExecuteTime": {
     "end_time": "2018-02-14T08:32:58.882461Z",
     "start_time": "2018-02-14T08:32:58.870715Z"
    },
    "collapsed": true
   },
   "outputs": [],
   "source": [
    "criterion = nn.CrossEntropyLoss()\n",
    "optimizer = optim.SGD(net.parameters(), lr=0.001, momentum=0.9)"
   ]
  },
  {
   "cell_type": "code",
   "execution_count": 580,
   "metadata": {
    "ExecuteTime": {
     "end_time": "2018-02-14T08:32:59.176037Z",
     "start_time": "2018-02-14T08:32:59.160897Z"
    }
   },
   "outputs": [],
   "source": [
    "def plot_lr_loss(acc, lrs):\n",
    "    plt.ylabel(\"Accuracy\")\n",
    "    plt.xlabel(\"learning rate (log scale)\")\n",
    "    plt.plot(lrs, acc)\n",
    "    plt.xscale('log')"
   ]
  },
  {
   "cell_type": "code",
   "execution_count": 581,
   "metadata": {
    "ExecuteTime": {
     "end_time": "2018-02-14T08:33:16.457949Z",
     "start_time": "2018-02-14T08:33:00.309320Z"
    }
   },
   "outputs": [
    {
     "data": {
      "application/vnd.jupyter.widget-view+json": {
       "model_id": "9804e0f6fba04fbb84dc08409b472367",
       "version_major": 2,
       "version_minor": 0
      },
      "text/html": [
       "<p>Failed to display Jupyter Widget of type <code>HBox</code>.</p>\n",
       "<p>\n",
       "  If you're reading this message in the Jupyter Notebook or JupyterLab Notebook, it may mean\n",
       "  that the widgets JavaScript is still loading. If this message persists, it\n",
       "  likely means that the widgets JavaScript library is either not installed or\n",
       "  not enabled. See the <a href=\"https://ipywidgets.readthedocs.io/en/stable/user_install.html\">Jupyter\n",
       "  Widgets Documentation</a> for setup instructions.\n",
       "</p>\n",
       "<p>\n",
       "  If you're reading this message in another frontend (for example, a static\n",
       "  rendering on GitHub or <a href=\"https://nbviewer.jupyter.org/\">NBViewer</a>),\n",
       "  it may mean that your frontend doesn't currently support widgets.\n",
       "</p>\n"
      ],
      "text/plain": [
       "HBox(children=(IntProgress(value=0, max=120), HTML(value='')))"
      ]
     },
     "metadata": {},
     "output_type": "display_data"
    },
    {
     "name": "stdout",
     "output_type": "stream",
     "text": [
      "\n"
     ]
    },
    {
     "data": {
      "image/png": "[encoded data removed]",
      "text/plain": [
       "<matplotlib.figure.Figure at 0x7fe301077780>"
      ]
     },
     "metadata": {},
     "output_type": "display_data"
    }
   ],
   "source": [
    "lrscheduler = CyclicLR(optimizer, base_lr=1e-5, max_lr=1, step_size=120, mode='triangular2', scale_mode='iterations')\n",
    "#Comment scheduler.step() to disable cosine annealing\n",
    "acc, lrs = find(net, criterion, optimizer, dataloaders,\n",
    "                       lrscheduler, 120)\n",
    "plot_lr_loss(acc, lrs)"
   ]
  },
  {
   "cell_type": "code",
   "execution_count": 583,
   "metadata": {
    "ExecuteTime": {
     "end_time": "2018-02-14T08:34:06.434753Z",
     "start_time": "2018-02-14T08:34:06.410941Z"
    }
   },
   "outputs": [
    {
     "data": {
      "text/plain": [
       "[0.078125,\n",
       " 0.109375,\n",
       " 0.109375,\n",
       " 0.078125,\n",
       " 0.046875,\n",
       " 0.125,\n",
       " 0.0625,\n",
       " 0.046875,\n",
       " 0.09375,\n",
       " 0.09375,\n",
       " 0.140625,\n",
       " 0.125,\n",
       " 0.171875,\n",
       " 0.109375,\n",
       " 0.078125,\n",
       " 0.09375,\n",
       " 0.140625,\n",
       " 0.09375,\n",
       " 0.1875,\n",
       " 0.171875,\n",
       " 0.140625,\n",
       " 0.1875,\n",
       " 0.25,\n",
       " 0.328125,\n",
       " 0.140625,\n",
       " 0.21875,\n",
       " 0.109375,\n",
       " 0.1875,\n",
       " 0.109375,\n",
       " 0.1875,\n",
       " 0.140625,\n",
       " 0.171875,\n",
       " 0.171875,\n",
       " 0.125,\n",
       " 0.078125,\n",
       " 0.125,\n",
       " 0.25,\n",
       " 0.140625,\n",
       " 0.09375,\n",
       " 0.140625,\n",
       " 0.234375,\n",
       " 0.125,\n",
       " 0.046875,\n",
       " 0.09375,\n",
       " 0.140625,\n",
       " 0.140625,\n",
       " 0.046875,\n",
       " 0.125,\n",
       " 0.203125,\n",
       " 0.078125,\n",
       " 0.109375,\n",
       " 0.046875,\n",
       " 0.171875,\n",
       " 0.109375,\n",
       " 0.125,\n",
       " 0.078125,\n",
       " 0.09375,\n",
       " 0.15625,\n",
       " 0.125,\n",
       " 0.109375,\n",
       " 0.015625,\n",
       " 0.078125,\n",
       " 0.109375,\n",
       " 0.15625,\n",
       " 0.125,\n",
       " 0.140625,\n",
       " 0.09375,\n",
       " 0.109375,\n",
       " 0.09375,\n",
       " 0.09375,\n",
       " 0.125,\n",
       " 0.078125,\n",
       " 0.09375,\n",
       " 0.09375,\n",
       " 0.0625,\n",
       " 0.125,\n",
       " 0.046875,\n",
       " 0.125,\n",
       " 0.046875,\n",
       " 0.125,\n",
       " 0.171875,\n",
       " 0.15625,\n",
       " 0.078125,\n",
       " 0.125,\n",
       " 0.15625,\n",
       " 0.09375,\n",
       " 0.125,\n",
       " 0.03125,\n",
       " 0.109375,\n",
       " 0.109375,\n",
       " 0.046875,\n",
       " 0.140625,\n",
       " 0.109375,\n",
       " 0.15625,\n",
       " 0.03125,\n",
       " 0.140625,\n",
       " 0.109375,\n",
       " 0.109375,\n",
       " 0.109375,\n",
       " 0.09375,\n",
       " 0.109375,\n",
       " 0.171875,\n",
       " 0.078125,\n",
       " 0.09375,\n",
       " 0.15625,\n",
       " 0.109375,\n",
       " 0.09375,\n",
       " 0.109375,\n",
       " 0.078125,\n",
       " 0.0625,\n",
       " 0.109375,\n",
       " 0.125,\n",
       " 0.109375,\n",
       " 0.078125,\n",
       " 0.09375,\n",
       " 0.125,\n",
       " 0.078125,\n",
       " 0.078125,\n",
       " 0.109375,\n",
       " 0.109375]"
      ]
     },
     "execution_count": 583,
     "metadata": {},
     "output_type": "execute_result"
    }
   ],
   "source": [
    "acc"
   ]
  },
  {
   "cell_type": "code",
   "execution_count": 514,
   "metadata": {
    "ExecuteTime": {
     "end_time": "2018-02-14T08:15:02.758868Z",
     "start_time": "2018-02-14T08:15:02.750676Z"
    }
   },
   "outputs": [
    {
     "data": {
      "text/plain": [
       "[0.03125,\n",
       " 0.046875,\n",
       " 0.15625,\n",
       " 0.140625,\n",
       " 0.1875,\n",
       " 0.15625,\n",
       " 0.234375,\n",
       " 0.25,\n",
       " 0.21875,\n",
       " 0.203125,\n",
       " 0.296875,\n",
       " 0.1875,\n",
       " 0.21875,\n",
       " 0.265625,\n",
       " 0.171875,\n",
       " 0.15625,\n",
       " 0.125,\n",
       " 0.0625,\n",
       " 0.09375,\n",
       " 0.171875,\n",
       " 0.171875,\n",
       " 0.203125,\n",
       " 0.125,\n",
       " 0.0625,\n",
       " 0.078125,\n",
       " 0.140625,\n",
       " 0.125,\n",
       " 0.0625,\n",
       " 0.15625,\n",
       " 0.078125,\n",
       " 0.140625,\n",
       " 0.0625,\n",
       " 0.171875,\n",
       " 0.109375,\n",
       " 0.140625,\n",
       " 0.0625,\n",
       " 0.078125,\n",
       " 0.140625,\n",
       " 0.15625,\n",
       " 0.15625,\n",
       " 0.109375,\n",
       " 0.03125,\n",
       " 0.171875,\n",
       " 0.078125,\n",
       " 0.09375,\n",
       " 0.109375,\n",
       " 0.125,\n",
       " 0.125,\n",
       " 0.203125,\n",
       " 0.09375,\n",
       " 0.1875,\n",
       " 0.0625,\n",
       " 0.1875,\n",
       " 0.09375,\n",
       " 0.109375,\n",
       " 0.09375,\n",
       " 0.125,\n",
       " 0.078125,\n",
       " 0.078125,\n",
       " 0.125,\n",
       " 0.078125,\n",
       " 0.140625,\n",
       " 0.125,\n",
       " 0.140625,\n",
       " 0.0625,\n",
       " 0.140625,\n",
       " 0.109375,\n",
       " 0.140625,\n",
       " 0.078125,\n",
       " 0.09375,\n",
       " 0.09375,\n",
       " 0.21875,\n",
       " 0.140625,\n",
       " 0.125,\n",
       " 0.0625,\n",
       " 0.140625,\n",
       " 0.171875,\n",
       " 0.109375,\n",
       " 0.078125,\n",
       " 0.140625,\n",
       " 0.078125,\n",
       " 0.0625,\n",
       " 0.140625,\n",
       " 0.0625,\n",
       " 0.09375,\n",
       " 0.0625,\n",
       " 0.15625,\n",
       " 0.125,\n",
       " 0.15625,\n",
       " 0.09375,\n",
       " 0.09375,\n",
       " 0.0625,\n",
       " 0.171875,\n",
       " 0.109375,\n",
       " 0.09375,\n",
       " 0.09375,\n",
       " 0.078125,\n",
       " 0.125,\n",
       " 0.109375,\n",
       " 0.109375,\n",
       " 0.078125,\n",
       " 0.0625,\n",
       " 0.171875,\n",
       " 0.046875,\n",
       " 0.265625,\n",
       " 0.0625,\n",
       " 0.046875,\n",
       " 0.078125,\n",
       " 0.03125,\n",
       " 0.078125,\n",
       " 0.140625,\n",
       " 0.03125,\n",
       " 0.078125,\n",
       " 0.140625,\n",
       " 0.078125,\n",
       " 0.125,\n",
       " 0.109375,\n",
       " 0.109375,\n",
       " 0.140625,\n",
       " 0.03125]"
      ]
     },
     "execution_count": 514,
     "metadata": {},
     "output_type": "execute_result"
    }
   ],
   "source": [
    "acc"
   ]
  },
  {
   "cell_type": "markdown",
   "metadata": {},
   "source": [
    "Best accuracy was observed with 8 epochs of cyclical learning rate and last 2 with cosine annealing. Uncomment the needed scheduler and comment out the other below and in training loop"
   ]
  },
  {
   "cell_type": "code",
   "execution_count": null,
   "metadata": {
    "ExecuteTime": {
     "end_time": "2018-02-14T04:42:34.303358Z",
     "start_time": "2018-02-14T04:42:32.518Z"
    },
    "collapsed": true
   },
   "outputs": [],
   "source": [
    "epochs = 8\n",
    "lrscheduler = optim.lr_scheduler.CosineAnnealingLR(optimizer, T_max=len(dataloaders['train']), eta_min=0.0005)\n",
    "#lrscheduler = CyclicLR(optimizer, base_lr=0.001, max_lr=0.008, step_size=5*len(dataloaders['train']))\n",
    "#782 iterations in 1 epoch\n",
    "losses, lrs, plot_losses = train(epochs, net, criterion, optimizer, dataloaders, lrscheduler)"
   ]
  },
  {
   "cell_type": "code",
   "execution_count": null,
   "metadata": {
    "ExecuteTime": {
     "end_time": "2018-02-14T04:42:34.303769Z",
     "start_time": "2018-02-14T04:42:32.519Z"
    },
    "collapsed": true
   },
   "outputs": [],
   "source": [
    "showPlot(plot_losses)"
   ]
  },
  {
   "cell_type": "markdown",
   "metadata": {},
   "source": [
    "## Transfer learning"
   ]
  },
  {
   "cell_type": "code",
   "execution_count": null,
   "metadata": {
    "ExecuteTime": {
     "end_time": "2018-02-14T04:42:34.304195Z",
     "start_time": "2018-02-14T04:42:32.531Z"
    },
    "collapsed": true
   },
   "outputs": [],
   "source": [
    "resnet = models.resnet18(pretrained=True)\n",
    "if use_gpu: resnet.cuda()\n",
    "num_ftrs = resnet.fc.in_features\n",
    "resnet.fc = nn.Linear(num_ftrs, 10).cuda()\n",
    "if use_gpu:resnet.fc.cuda()"
   ]
  },
  {
   "cell_type": "code",
   "execution_count": null,
   "metadata": {
    "ExecuteTime": {
     "end_time": "2018-02-14T04:42:34.304551Z",
     "start_time": "2018-02-14T04:42:32.532Z"
    }
   },
   "outputs": [],
   "source": [
    "epochs = 4\n",
    "#lrscheduler = optim.lr_scheduler.CosineAnnealingLR(optimizer, T_max=len(dataloaders['train']), eta_min=0.0005)\n",
    "lrscheduler = CyclicLR(optimizer, base_lr=0.002, max_lr=0.006, step_size=3*len(dataloaders['train']))\n",
    "#782 iterations in 1 epoch\n",
    "losses, lrs, plot_losses = train(epochs, resnet, criterion, optimizer, dataloaders, lrscheduler)\n",
    "plot_lr_loss(losses, lrs)"
   ]
  },
  {
   "cell_type": "code",
   "execution_count": null,
   "metadata": {
    "ExecuteTime": {
     "end_time": "2018-02-14T04:42:34.305028Z",
     "start_time": "2018-02-14T04:42:32.533Z"
    },
    "collapsed": true
   },
   "outputs": [],
   "source": [
    "model_conv = torchvision.models.resnet18(pretrained=True)\n",
    "for param in model_conv.parameters():\n",
    "    param.requires_grad = False\n",
    "\n",
    "# Parameters of newly constructed modules have requires_grad=True by default\n",
    "num_ftrs = model_conv.fc.in_features\n",
    "model_conv.fc = nn.Linear(num_ftrs, 10)\n",
    "\n",
    "if use_gpu:\n",
    "    model_conv.cuda()"
   ]
  },
  {
   "cell_type": "code",
   "execution_count": null,
   "metadata": {
    "ExecuteTime": {
     "end_time": "2018-02-14T04:42:34.305415Z",
     "start_time": "2018-02-14T04:42:32.534Z"
    }
   },
   "outputs": [],
   "source": [
    "epochs = 24\n",
    "#lrscheduler = optim.lr_scheduler.CosineAnnealingLR(optimizer, T_max=len(dataloaders['train']), eta_min=0.0005)\n",
    "lrscheduler = CyclicLR(optimizer, base_lr=0.001, max_lr=0.006, step_size=4*len(dataloaders['train']))\n",
    "losses, lrs, plot_losses = train(epochs, resnet, criterion, optimizer, dataloaders, lrscheduler)\n",
    "plot_lr_loss(losses, lrs)"
   ]
  },
  {
   "cell_type": "markdown",
   "metadata": {},
   "source": [
    "## Evaluation"
   ]
  },
  {
   "cell_type": "code",
   "execution_count": null,
   "metadata": {
    "ExecuteTime": {
     "end_time": "2018-02-14T04:42:34.305860Z",
     "start_time": "2018-02-14T04:42:32.542Z"
    },
    "collapsed": true
   },
   "outputs": [],
   "source": [
    "def evaluate_model(model, num_images=6):\n",
    "    images_so_far = 0\n",
    "    fig = plt.figure()\n",
    "    correct = 0\n",
    "    total = 0\n",
    "    for i, data in enumerate(dataloaders['val']):\n",
    "        inputs, labels = data\n",
    "        if use_gpu:\n",
    "            inputs, labels = Variable(inputs.cuda()), Variable(labels.cuda())\n",
    "        else:\n",
    "            inputs, labels = Variable(inputs), Variable(labels)\n",
    "\n",
    "        outputs = model(inputs)\n",
    "        _, preds = torch.max(outputs.data, 1)\n",
    "        total += labels.size(0)\n",
    "        correct += (preds.cpu().numpy() == labels.cpu().data.numpy()).sum()\n",
    "        if i == len(dataloaders['val'])-1:\n",
    "            print('Accuracy of the network on test images: %d %%' % (\n",
    "                100 * correct / total))\n",
    "            for j in range(inputs.size()[0]):\n",
    "                images_so_far += 1\n",
    "                ax = plt.subplot(num_images//2, 2, images_so_far)\n",
    "                ax.axis('off')\n",
    "                ax.set_title('predicted: {}'.format(class_names[preds[j]]))\n",
    "                imshow(inputs.cpu().data[j])\n",
    "\n",
    "                if images_so_far == num_images:\n",
    "                    return\n"
   ]
  },
  {
   "cell_type": "code",
   "execution_count": null,
   "metadata": {
    "ExecuteTime": {
     "end_time": "2018-02-14T04:42:34.306361Z",
     "start_time": "2018-02-14T04:42:32.543Z"
    }
   },
   "outputs": [],
   "source": [
    "evaluate_model(resnet)"
   ]
  },
  {
   "cell_type": "code",
   "execution_count": null,
   "metadata": {
    "collapsed": true
   },
   "outputs": [],
   "source": []
  }
 ],
 "metadata": {
  "kernelspec": {
   "display_name": "Python 3",
   "language": "python",
   "name": "python3"
  },
  "language_info": {
   "codemirror_mode": {
    "name": "ipython",
    "version": 3
   },
   "file_extension": ".py",
   "mimetype": "text/x-python",
   "name": "python",
   "nbconvert_exporter": "python",
   "pygments_lexer": "ipython3",
   "version": "3.6.4"
  },
  "latex_envs": {
   "LaTeX_envs_menu_present": true,
   "autocomplete": true,
   "bibliofile": "biblio.bib",
   "cite_by": "apalike",
   "current_citInitial": 1,
   "eqLabelWithNumbers": true,
   "eqNumInitial": 1,
   "hotkeys": {
    "equation": "Ctrl-E",
    "itemize": "Ctrl-I"
   },
   "labels_anchors": false,
   "latex_user_defs": false,
   "report_style_numbering": false,
   "user_envs_cfg": false
  }
 },
 "nbformat": 4,
 "nbformat_minor": 2
}
